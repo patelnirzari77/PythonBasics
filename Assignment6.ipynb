{
 "cells": [
  {
   "cell_type": "raw",
   "metadata": {},
   "source": [
    "1. What are escape characters, and how do you use them?\n",
    "Ans.The backslash('\\') is an escape character. It is followed by the illegal character you want to insert in a string. It is used in representing certain whitespace characters.\n",
    "\n",
    "2. What do the escape characters n and t stand for?\n",
    "Ans.n stands for new line and t stands for tab.\n",
    "\n",
    "3. What is the way to include backslash characters in a string?\n",
    "Ans.It can be included after the '\\' character.\n",
    "\n",
    "4. The string \"Howl's Moving Castle\" is a correct value. Why isn't the single quote character in the word Howl's not escaped a problem?\n",
    "Ans.The single quote character in the word Howl's is ok because the double quote character is used in the beginning and ending of the string.\n",
    "\n",
    "5. How do you write a string of newlines if you don't want to use the n character?\n",
    "Ans.It can be written by multiline strings.\n",
    "        Eg. a=\"hello,\n",
    "               how are you?\"\n",
    "               \n",
    "6. What are the values of the given expressions?\n",
    "'Hello, world!'[1]\n",
    "'e'\n",
    "'Hello, world!'[0:5]\n",
    "'Hello'\n",
    "'Hello, world!'[:5]\n",
    "'Hello'\n",
    "'Hello, world!'[3:]\n",
    "'lo, world!'\n",
    "\n",
    "7. What are the values of the following expressions?\n",
    "'Hello'.upper()\n",
    "'HELLO'\n",
    "'Hello'.upper().isupper()\n",
    " True\n",
    "'Hello'.upper().lower()\n",
    "'hello'\n",
    "\n",
    "8. What are the values of the following expressions?\n",
    "'Remember, remember, the fifth of July.'.split()\n",
    "['Remember,','remember,'the','fifth','of','July.']\n",
    "\n",
    "'-'.join('There can only one.'.split())\n",
    "'There-can-only-one.'\n",
    "\n",
    "9. What are the methods for right-justifying, left-justifying, and centering a string?\n",
    "Ans.The methods are rjust(), ljust() and center() respectively.\n",
    "\n",
    "10. What is the best way to remove whitespace characters from the start or end?\n",
    "Ans. strip() string method is the best way to remove whitespace characters from start and end.\n",
    "lstrip() and rstrip() remove the whitespace from the left and right ends.\n"
   ]
  }
 ],
 "metadata": {
  "kernelspec": {
   "display_name": "Python 3",
   "language": "python",
   "name": "python3"
  },
  "language_info": {
   "codemirror_mode": {
    "name": "ipython",
    "version": 3
   },
   "file_extension": ".py",
   "mimetype": "text/x-python",
   "name": "python",
   "nbconvert_exporter": "python",
   "pygments_lexer": "ipython3",
   "version": "3.8.5"
  }
 },
 "nbformat": 4,
 "nbformat_minor": 4
}
