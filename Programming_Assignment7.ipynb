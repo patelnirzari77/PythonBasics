{
 "cells": [
  {
   "cell_type": "raw",
   "id": "070d3857",
   "metadata": {},
   "source": [
    "1. Write a Python Program to find sum of array?"
   ]
  },
  {
   "cell_type": "code",
   "execution_count": 1,
   "id": "f89b6e24",
   "metadata": {},
   "outputs": [
    {
     "name": "stdout",
     "output_type": "stream",
     "text": [
      "Sum of array =  10\n"
     ]
    }
   ],
   "source": [
    "arr = []\n",
    "arr = [1,2,3,4]\n",
    "s = sum(arr)\n",
    "print(\"Sum of array = \",s)"
   ]
  },
  {
   "cell_type": "raw",
   "id": "690f08f6",
   "metadata": {},
   "source": [
    "2. Write a Python Program to find largest element in an array?"
   ]
  },
  {
   "cell_type": "code",
   "execution_count": 2,
   "id": "cdc436a5",
   "metadata": {},
   "outputs": [
    {
     "name": "stdout",
     "output_type": "stream",
     "text": [
      "Largest is =  65\n"
     ]
    }
   ],
   "source": [
    "arr = []\n",
    "arr = [34,54,65,23]\n",
    "l = max(arr)\n",
    "print(\"Largest is = \",l)"
   ]
  },
  {
   "cell_type": "raw",
   "id": "f99a5185",
   "metadata": {},
   "source": [
    "3. Write a Python Program for array rotation?"
   ]
  },
  {
   "cell_type": "code",
   "execution_count": 5,
   "id": "cd7b195d",
   "metadata": {},
   "outputs": [
    {
     "name": "stdout",
     "output_type": "stream",
     "text": [
      "Enter number of times you want to rotate array:4\n",
      "Rotated array: [5, 1, 2, 3, 4]\n"
     ]
    }
   ],
   "source": [
    "arr = []\n",
    "arr = [1,2,3,4,5]\n",
    "d = int(input(\"Enter number of times you want to rotate array:\"))\n",
    "n = len(arr)\n",
    "arr[:] = arr[d:n] + arr[0:d]\n",
    "print(\"Rotated array:\",arr)"
   ]
  },
  {
   "cell_type": "raw",
   "id": "e660f207",
   "metadata": {},
   "source": [
    "4. Write a Python Program to Split the array and add the first part to the end?"
   ]
  },
  {
   "cell_type": "code",
   "execution_count": 7,
   "id": "72bcce3b",
   "metadata": {},
   "outputs": [
    {
     "name": "stdout",
     "output_type": "stream",
     "text": [
      "Enter the position from where you want to split:3\n",
      "Final array: [6, 7, 3, 4, 5]\n"
     ]
    }
   ],
   "source": [
    "arr = []\n",
    "arr = [3,4,5,6,7]\n",
    "n = int(input(\"Enter the position from where you want to split:\"))\n",
    "l = len(arr)\n",
    "arr[:] = arr[n:l] + arr[0:n]\n",
    "print(\"Final array:\",arr)"
   ]
  },
  {
   "cell_type": "raw",
   "id": "1ae8ed75",
   "metadata": {},
   "source": [
    "5. Write a Python Program to check if given array is Monotonic?"
   ]
  },
  {
   "cell_type": "code",
   "execution_count": 10,
   "id": "df34b4bc",
   "metadata": {},
   "outputs": [
    {
     "data": {
      "text/plain": [
       "True"
      ]
     },
     "execution_count": 10,
     "metadata": {},
     "output_type": "execute_result"
    }
   ],
   "source": [
    "def ismonotonic(A):\n",
    "    return (all(A[i] <= A[i + 1] for i in range(len(A) - 1)) or\n",
    "      all(A[i] >= A[i + 1] for i in range(len(A) - 1)))\n",
    "\n",
    "A = [2,3,4,54,55]\n",
    "ismonotonic(A)"
   ]
  }
 ],
 "metadata": {
  "kernelspec": {
   "display_name": "Python 3",
   "language": "python",
   "name": "python3"
  },
  "language_info": {
   "codemirror_mode": {
    "name": "ipython",
    "version": 3
   },
   "file_extension": ".py",
   "mimetype": "text/x-python",
   "name": "python",
   "nbconvert_exporter": "python",
   "pygments_lexer": "ipython3",
   "version": "3.8.8"
  }
 },
 "nbformat": 4,
 "nbformat_minor": 5
}
