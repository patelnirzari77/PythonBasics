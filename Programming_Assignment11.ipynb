{
 "cells": [
  {
   "cell_type": "raw",
   "id": "8a3fbc97",
   "metadata": {},
   "source": [
    "1. Write a Python program to find words which are greater than given length k?"
   ]
  },
  {
   "cell_type": "code",
   "execution_count": 3,
   "id": "495e6934",
   "metadata": {},
   "outputs": [
    {
     "name": "stdout",
     "output_type": "stream",
     "text": [
      "today ,great ,"
     ]
    }
   ],
   "source": [
    "def length(s,k):\n",
    "    for i in s.split():\n",
    "        if len(i)>k:\n",
    "            print(i,\",\",end=\"\")\n",
    "            \n",
    "s = \"today is a great day\"\n",
    "length(s,3)"
   ]
  },
  {
   "cell_type": "raw",
   "id": "980cca29",
   "metadata": {},
   "source": [
    "2. Write a Python program for removing i-th character from a string?"
   ]
  },
  {
   "cell_type": "code",
   "execution_count": 2,
   "id": "b9835eea",
   "metadata": {},
   "outputs": [
    {
     "name": "stdout",
     "output_type": "stream",
     "text": [
      "Hllo\n"
     ]
    }
   ],
   "source": [
    "def rem(s,n):\n",
    "    s = s.replace(s[n],\"\")\n",
    "    print(s)\n",
    "    \n",
    "\n",
    "s = \"Hello\"\n",
    "rem(s,1)"
   ]
  },
  {
   "cell_type": "raw",
   "id": "15d243a7",
   "metadata": {},
   "source": [
    "3. Write a Python program to split and join a string?"
   ]
  },
  {
   "cell_type": "code",
   "execution_count": 2,
   "id": "0c133489",
   "metadata": {},
   "outputs": [
    {
     "name": "stdout",
     "output_type": "stream",
     "text": [
      "['Nirz', 'ri P', 'tel']\n",
      "Nirz-ri P-tel\n"
     ]
    }
   ],
   "source": [
    "def spl(s,n):\n",
    "    s1 = s.split(n)\n",
    "    print(s1)\n",
    "    s2 = '-'.join(s1)\n",
    "    print(s2)\n",
    "s = \"Nirzari Patel\"\n",
    "spl(s,\"a\")\n",
    "\n"
   ]
  },
  {
   "cell_type": "raw",
   "id": "c8608d5d",
   "metadata": {},
   "source": [
    "4. Write a Python to check if a given string is binary string or not?"
   ]
  },
  {
   "cell_type": "code",
   "execution_count": 5,
   "id": "572d0b7f",
   "metadata": {},
   "outputs": [
    {
     "name": "stdout",
     "output_type": "stream",
     "text": [
      "not a binary string\n",
      "binary string\n"
     ]
    }
   ],
   "source": [
    "def binary(s):\n",
    "    l = [\"0\",\"1\"]\n",
    "    for i in s:\n",
    "        if i not in l:\n",
    "            print(\"not a binary string\")\n",
    "            break\n",
    "        else:\n",
    "            print(\"binary string\")\n",
    "            break\n",
    "binary(\"Full stack data science\")\n",
    "binary(\"01001\")"
   ]
  },
  {
   "cell_type": "raw",
   "id": "4f757d5d",
   "metadata": {},
   "source": [
    "5. Write a Python program to find uncommon words from two Strings?"
   ]
  },
  {
   "cell_type": "code",
   "execution_count": 6,
   "id": "533cc380",
   "metadata": {},
   "outputs": [
    {
     "data": {
      "text/plain": [
       "['uncommon', 'common']"
      ]
     },
     "execution_count": 6,
     "metadata": {},
     "output_type": "execute_result"
    }
   ],
   "source": [
    "def uncommon(s1,s2):\n",
    "    out = []\n",
    "    for i in s1.split():\n",
    "        if i not in s2.split():\n",
    "            out.append(i)\n",
    "    for i in s2.split():\n",
    "        if i not in s1.split():\n",
    "            out.append(i)\n",
    "    return out\n",
    "\n",
    "uncommon(\"Python program to find uncommon words\",\"Python program to find common words\")"
   ]
  },
  {
   "cell_type": "raw",
   "id": "7d3f7ea3",
   "metadata": {},
   "source": [
    "6. Write a Python to find all duplicate characters in string?"
   ]
  },
  {
   "cell_type": "code",
   "execution_count": 7,
   "id": "eda902af",
   "metadata": {},
   "outputs": [
    {
     "data": {
      "text/plain": [
       "['d', 's']"
      ]
     },
     "execution_count": 7,
     "metadata": {},
     "output_type": "execute_result"
    }
   ],
   "source": [
    "def duplicate(s):\n",
    "    dup= []\n",
    "    out=[]\n",
    "    for i in s:\n",
    "        if i not in out:\n",
    "            out.append(i)\n",
    "        else:\n",
    "            dup.append(i)\n",
    "    return dup\n",
    "\n",
    "duplicate(\"defdswas\")"
   ]
  },
  {
   "cell_type": "raw",
   "id": "7e500f08",
   "metadata": {},
   "source": [
    "7. Write a Python Program to check if a string contains any special character?"
   ]
  },
  {
   "cell_type": "code",
   "execution_count": 12,
   "id": "86a30043",
   "metadata": {},
   "outputs": [
    {
     "name": "stdout",
     "output_type": "stream",
     "text": [
      "string contains special characters\n"
     ]
    }
   ],
   "source": [
    "def sp_char(s):\n",
    "    sp=['[', '@', '_', '!', '#', '$', '%', '^', '&', '*', '(', ')', '<', '>', '?', '/','\\\\', '|', '}', '{', '~', ':', ']']\n",
    "    for i in s:\n",
    "        if i in sp:\n",
    "            print(\"string contains special characters\")\n",
    "            break\n",
    "    else:\n",
    "        print(\"string doesnot contain special characters\")\n",
    "        \n",
    "sp_char(\"Hello World!\")"
   ]
  }
 ],
 "metadata": {
  "kernelspec": {
   "display_name": "Python 3",
   "language": "python",
   "name": "python3"
  },
  "language_info": {
   "codemirror_mode": {
    "name": "ipython",
    "version": 3
   },
   "file_extension": ".py",
   "mimetype": "text/x-python",
   "name": "python",
   "nbconvert_exporter": "python",
   "pygments_lexer": "ipython3",
   "version": "3.8.8"
  }
 },
 "nbformat": 4,
 "nbformat_minor": 5
}
