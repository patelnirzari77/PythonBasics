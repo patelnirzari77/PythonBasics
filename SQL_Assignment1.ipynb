{
 "cells": [
  {
   "cell_type": "raw",
   "id": "e10ab8ac",
   "metadata": {},
   "source": [
    "Q-1. Write an SQL query to fetch “FIRST_NAME” from Worker table using the alias\n",
    "name as <WORKER_NAME>.\n",
    "Ans.SELECT FIRST_NAME as WORKER_NAME from Worker;\n",
    "\n",
    "Q-2. Write an SQL query to fetch unique values of DEPARTMENT from Worker table.\n",
    "Ans.SELECT distinct DEPARTMENT from Worker;  \n",
    "\n",
    "Q-3. Write an SQL query to show the last 5 record from a table.\n",
    "Ans.SELECT * from Worker\n",
    "    WHERE ID > (SELECT COUNT(*) FROM Worker) - 5;"
   ]
  }
 ],
 "metadata": {
  "kernelspec": {
   "display_name": "Python 3 (ipykernel)",
   "language": "python",
   "name": "python3"
  },
  "language_info": {
   "codemirror_mode": {
    "name": "ipython",
    "version": 3
   },
   "file_extension": ".py",
   "mimetype": "text/x-python",
   "name": "python",
   "nbconvert_exporter": "python",
   "pygments_lexer": "ipython3",
   "version": "3.9.7"
  }
 },
 "nbformat": 4,
 "nbformat_minor": 5
}
