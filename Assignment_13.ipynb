{
 "cells": [
  {
   "cell_type": "raw",
   "id": "4b627bef",
   "metadata": {},
   "source": [
    "1. What advantages do Excel spreadsheets have over CSV spreadsheets?\n",
    "Ans. Excel is more superior than CSV as excel is not only a measure to store information but also acts as a tool to perform financial analysis i.e. to perform a deep analysis of data and numbers, which is not possible in csv spreadsheets.\n",
    "\n",
    "2. What do you pass to csv.reader() and csv.writer() to create reader and writer objects?\n",
    "Ans.In csv.reader(), we pass the file name,dialect and other optional parameters while in csv.writer(), we pass the file name in which we want to add data into and other optional parameters like delimeter.\n",
    "\n",
    "3. What modes do File objects for reader and writer objects need to be opened in?\n",
    "Ans.For reader, the file is opened in 'r' mode as it allows the user to only read from the file, whereas forwriter, the file is opened in 'w' mode which allows the user to only write the data into the file.\n",
    "\n",
    "4. What method takes a list argument and writes it to a CSV file?\n",
    "Ans.writerows() method takes a list as an argument and writes it into a CSV file.\n",
    "\n",
    "5. What do the keyword arguments delimiter and line terminator do?\n",
    "Ans.The delimeter is the character that appears between cells on a row and the line terminator is the character that comes at the end of the row. It changes the character between cells and between rows.\n",
    "\n",
    "6. What function takes a string of JSON data and returns a Python data structure?\n",
    "Ans.loads() function takes a string if JSON data and returns a Python data structure.\n",
    "\n",
    "7. What function takes a Python data structure and returns a string of JSON data?\n",
    "Ans.dumps() method returns a JSON data when given a Python data structure(dictionary)."
   ]
  }
 ],
 "metadata": {
  "kernelspec": {
   "display_name": "Python 3",
   "language": "python",
   "name": "python3"
  },
  "language_info": {
   "codemirror_mode": {
    "name": "ipython",
    "version": 3
   },
   "file_extension": ".py",
   "mimetype": "text/x-python",
   "name": "python",
   "nbconvert_exporter": "python",
   "pygments_lexer": "ipython3",
   "version": "3.8.8"
  }
 },
 "nbformat": 4,
 "nbformat_minor": 5
}
