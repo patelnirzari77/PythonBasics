{
 "cells": [
  {
   "cell_type": "raw",
   "id": "bfcc5751",
   "metadata": {},
   "source": [
    "1. How do you distinguish between shutil.copy() and shutil.copytree()?\n",
    "Ans.shutil.copy() will copy the folder from the path source to the path destination i.e. it will copy a single file while shutil.copytree() will copy an entire folder and every folder and file contained in it.\n",
    "\n",
    "2. What function is used to rename files?\n",
    "Ans. os.rename() function is used to rename file name.\n",
    "\n",
    "3. What is the difference between the delete functions in the send2trash and shutil modules?\n",
    "Ans.The delete function in send2trash will move the file to the recycle bin while in shutil modules it will permanently delete the file or folder.\n",
    "\n",
    "4.ZipFile objects have a close() method just like File objects’ close() method. What ZipFile method is\n",
    "equivalent to File objects’ open() method?\n",
    "Ans.the zipfile.ZipFile() method is equivalent to open() function.\n",
    "\n",
    "5. Create a programme that searches a folder tree for files with a certain file extension (such as .pdf\n",
    "or .jpg). Copy these files from whatever location they are in to a new folder.\n"
   ]
  },
  {
   "cell_type": "code",
   "execution_count": 7,
   "id": "a1493530",
   "metadata": {},
   "outputs": [
    {
     "name": "stdout",
     "output_type": "stream",
     "text": [
      "Enter source folder name:Assignments\n",
      "Enter destination folder name:Downloads\n",
      "Enter the type of file to copy (such as .pdf or .jpg): .pdf\n"
     ]
    }
   ],
   "source": [
    "import os,shutil\n",
    "srcfolder = input(\"Enter source folder name:\")\n",
    "destfolder = input(\"Enter destination folder name:\")\n",
    "\n",
    "srcpath = os.path.abspath(srcfolder)\n",
    "destpath = os.path.abspath(destfolder)\n",
    "\n",
    "fileExtType = input(\"Enter the type of file to copy (such as .pdf or .jpg): \").lower()\n",
    "\n",
    "for foldername,subfolders,filenames in os.walk(srcpath):\n",
    "    for filename in filenames:\n",
    "        if filename.lower().endswith(fileExtType):\n",
    "            #print(foldername + \"\\\\\" + filename)\n",
    "            copySourcePath = os.path.join(foldername, filename)\n",
    "            #print(copySourcePath)\n",
    "            shutil.copy(copySourcePath, destpath)\n",
    "        else:\n",
    "            continue\n",
    "        "
   ]
  },
  {
   "cell_type": "code",
   "execution_count": null,
   "id": "de8b65ba",
   "metadata": {},
   "outputs": [],
   "source": []
  }
 ],
 "metadata": {
  "kernelspec": {
   "display_name": "Python 3",
   "language": "python",
   "name": "python3"
  },
  "language_info": {
   "codemirror_mode": {
    "name": "ipython",
    "version": 3
   },
   "file_extension": ".py",
   "mimetype": "text/x-python",
   "name": "python",
   "nbconvert_exporter": "python",
   "pygments_lexer": "ipython3",
   "version": "3.8.8"
  }
 },
 "nbformat": 4,
 "nbformat_minor": 5
}
