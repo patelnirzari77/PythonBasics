{
 "cells": [
  {
   "cell_type": "raw",
   "id": "fd799cc2",
   "metadata": {},
   "source": [
    "1. Write a Python Program to Display Fibonacci Sequence Using Recursion?"
   ]
  },
  {
   "cell_type": "code",
   "execution_count": 2,
   "id": "1103faee",
   "metadata": {},
   "outputs": [
    {
     "name": "stdout",
     "output_type": "stream",
     "text": [
      "Enter no. of terms:5\n",
      "0\n",
      "1\n",
      "1\n",
      "2\n",
      "3\n"
     ]
    }
   ],
   "source": [
    "def r_fibo(n):\n",
    "    if n <= 1:\n",
    "        return n\n",
    "    else:\n",
    "        return(r_fibo(n-1) + r_fibo(n-2))\n",
    "\n",
    "nterms = int (input(\"Enter no. of terms:\"))\n",
    "if nterms <= 0:\n",
    "    print(\"enter positive number\")\n",
    "else:\n",
    "    for i in range(nterms):\n",
    "        print(r_fibo(i))\n",
    "        \n"
   ]
  },
  {
   "cell_type": "raw",
   "id": "027798de",
   "metadata": {},
   "source": [
    "2. Write a Python Program to Find Factorial of Number Using Recursion"
   ]
  },
  {
   "cell_type": "code",
   "execution_count": 4,
   "id": "a0b6b499",
   "metadata": {},
   "outputs": [
    {
     "name": "stdout",
     "output_type": "stream",
     "text": [
      "Enter number:5\n",
      "Factorial of  5 is  120\n"
     ]
    }
   ],
   "source": [
    "def r_fac(n):\n",
    "    if n == 1:\n",
    "        return n\n",
    "    else:\n",
    "        return n * r_fac(n-1)\n",
    "\n",
    "n = int (input(\"Enter number:\"))\n",
    "if n < 0:\n",
    "    print(\"Enter positive number\")\n",
    "elif n == 0:\n",
    "    print(\"Factorial of 0 is 1\")\n",
    "else:\n",
    "    print(\"Factorial of \",n,\"is \",r_fac(n))"
   ]
  },
  {
   "cell_type": "raw",
   "id": "e42b2688",
   "metadata": {},
   "source": [
    "3. Write a Python Program to calculate your Body Mass Index?"
   ]
  },
  {
   "cell_type": "code",
   "execution_count": 6,
   "id": "cf4987c1",
   "metadata": {},
   "outputs": [
    {
     "name": "stdout",
     "output_type": "stream",
     "text": [
      "enter weight in kg:56\n",
      "Enter height in m:1.7\n",
      "BMI is  19.377162629757787\n"
     ]
    }
   ],
   "source": [
    "w = float(input(\"enter weight in kg:\"))\n",
    "h = float(input(\"Enter height in m:\"))\n",
    "bmi = float(w/(h*h))\n",
    "print(\"BMI is \",bmi )"
   ]
  },
  {
   "cell_type": "raw",
   "id": "ff09752f",
   "metadata": {},
   "source": [
    "4. Write a Python Program to calculate the natural logarithm of any number?"
   ]
  },
  {
   "cell_type": "code",
   "execution_count": 8,
   "id": "77c232e3",
   "metadata": {},
   "outputs": [
    {
     "name": "stdout",
     "output_type": "stream",
     "text": [
      "Enter number:10\n",
      "2.302585092994046\n"
     ]
    }
   ],
   "source": [
    "import math\n",
    "n = int(input(\"Enter number:\"))\n",
    "print(math.log(n))"
   ]
  },
  {
   "cell_type": "raw",
   "id": "11a0a0ea",
   "metadata": {},
   "source": [
    "5. Write a Python Program for cube sum of first n natural numbers?"
   ]
  },
  {
   "cell_type": "code",
   "execution_count": 9,
   "id": "a6a8ad28",
   "metadata": {},
   "outputs": [
    {
     "name": "stdout",
     "output_type": "stream",
     "text": [
      "Enter number:3\n",
      "Cube sum is : 36\n"
     ]
    }
   ],
   "source": [
    "n = int (input(\"Enter number:\"))\n",
    "s = 0\n",
    "for i in range(1,n+1):\n",
    "    s = s + (i*i*i)\n",
    "    \n",
    "print(\"Cube sum is :\",s)"
   ]
  }
 ],
 "metadata": {
  "kernelspec": {
   "display_name": "Python 3",
   "language": "python",
   "name": "python3"
  },
  "language_info": {
   "codemirror_mode": {
    "name": "ipython",
    "version": 3
   },
   "file_extension": ".py",
   "mimetype": "text/x-python",
   "name": "python",
   "nbconvert_exporter": "python",
   "pygments_lexer": "ipython3",
   "version": "3.8.8"
  }
 },
 "nbformat": 4,
 "nbformat_minor": 5
}
