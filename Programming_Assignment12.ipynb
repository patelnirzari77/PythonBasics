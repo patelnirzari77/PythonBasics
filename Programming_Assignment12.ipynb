{
 "cells": [
  {
   "cell_type": "raw",
   "id": "2e6a4bc8",
   "metadata": {},
   "source": [
    "1. Write a Python program to Extract Unique values dictionary values?"
   ]
  },
  {
   "cell_type": "code",
   "execution_count": 3,
   "id": "c62fdc46",
   "metadata": {},
   "outputs": [
    {
     "data": {
      "text/plain": [
       "[1, 4, 3]"
      ]
     },
     "execution_count": 3,
     "metadata": {},
     "output_type": "execute_result"
    }
   ],
   "source": [
    "def unique(d):\n",
    "    t=[]\n",
    "    for i in d.values():\n",
    "        if i not in t:\n",
    "            t.append(i)\n",
    "    return t\n",
    "unique({\"a\":1,\"b\":4,\"c\":1,\"d\":3,\"e\":4})"
   ]
  },
  {
   "cell_type": "raw",
   "id": "374444ef",
   "metadata": {},
   "source": [
    "2. Write a Python program to find the sum of all items in a dictionary?"
   ]
  },
  {
   "cell_type": "code",
   "execution_count": 4,
   "id": "2ee7285b",
   "metadata": {},
   "outputs": [
    {
     "data": {
      "text/plain": [
       "10"
      ]
     },
     "execution_count": 4,
     "metadata": {},
     "output_type": "execute_result"
    }
   ],
   "source": [
    "def summ(d):\n",
    "    s = 0\n",
    "    for i in d.values():\n",
    "        s += i\n",
    "    return s\n",
    "summ({\"a\":1,\"b\":2,\"d\":3,\"e\":4})"
   ]
  },
  {
   "cell_type": "raw",
   "id": "ddf1894b",
   "metadata": {},
   "source": [
    "3. Write a Python program to Merging two Dictionaries?"
   ]
  },
  {
   "cell_type": "code",
   "execution_count": 9,
   "id": "0fba5937",
   "metadata": {},
   "outputs": [
    {
     "data": {
      "text/plain": [
       "{'a': 1, 'b': 2, 'c': 1, 'd': 3, 'e': 4}"
      ]
     },
     "execution_count": 9,
     "metadata": {},
     "output_type": "execute_result"
    }
   ],
   "source": [
    "def merge(d1,d2):\n",
    "    m = d1\n",
    "    for i in d2.items():\n",
    "        m[i[0]]=i[1]\n",
    "    return m\n",
    "merge({\"a\":1,\"b\":2,\"c\":1},{\"d\":3,\"e\":4})\n",
    "        "
   ]
  },
  {
   "cell_type": "raw",
   "id": "839319d7",
   "metadata": {},
   "source": [
    "4. Write a Python program to convert key-values list to flat dictionary?"
   ]
  },
  {
   "cell_type": "code",
   "execution_count": 10,
   "id": "518bf930",
   "metadata": {},
   "outputs": [
    {
     "data": {
      "text/plain": [
       "{'a': 2, 'b': 3, 'c': 4}"
      ]
     },
     "execution_count": 10,
     "metadata": {},
     "output_type": "execute_result"
    }
   ],
   "source": [
    "def con(k,v):\n",
    "    d = {}\n",
    "    for i in range(len(k)):\n",
    "        d[k[i]]=v[i]\n",
    "    return d\n",
    "con(['a','b','c'],[2,3,4])"
   ]
  },
  {
   "cell_type": "raw",
   "id": "afd7543c",
   "metadata": {},
   "source": [
    "5. Write a Python program to insertion at the beginning in OrderedDict?"
   ]
  },
  {
   "cell_type": "code",
   "execution_count": 17,
   "id": "047bf09c",
   "metadata": {},
   "outputs": [
    {
     "data": {
      "text/plain": [
       "OrderedDict([('e', 'abc'), ('a', 1), ('b', 2), ('c', 3), ('d', 4)])"
      ]
     },
     "execution_count": 17,
     "metadata": {},
     "output_type": "execute_result"
    }
   ],
   "source": [
    "from collections import OrderedDict\n",
    "\n",
    "def add(d,k,v):\n",
    "    d.update({k:v})\n",
    "    d.move_to_end(k,last=False)\n",
    "    return d\n",
    "add(OrderedDict({'a': 1, 'b': 2, 'c': 3,'d':4}),\"e\",\"abc\")\n"
   ]
  },
  {
   "cell_type": "raw",
   "id": "7132efa0",
   "metadata": {},
   "source": [
    "6. Write a Python program to check order of character in string using OrderedDict()?"
   ]
  },
  {
   "cell_type": "code",
   "execution_count": 18,
   "id": "ee829d86",
   "metadata": {},
   "outputs": [
    {
     "name": "stdout",
     "output_type": "stream",
     "text": [
      "True\n",
      "False\n"
     ]
    }
   ],
   "source": [
    "def order(s,p):\n",
    "    d = OrderedDict.fromkeys(s) \n",
    "    c = 0\n",
    "    for key,values in d.items(): \n",
    "        if (key == p[c]): \n",
    "             c += 1\n",
    "        if (c == (len(p))): \n",
    "            return True\n",
    "    return False\n",
    "print(order(\"nirzari patel \",'ipl'))\n",
    "print(order(\"nirzari patel\",'rnp'))"
   ]
  },
  {
   "cell_type": "raw",
   "id": "f792829b",
   "metadata": {},
   "source": [
    "7. Write a Python program to sort Python Dictionaries by Key or Value?"
   ]
  },
  {
   "cell_type": "code",
   "execution_count": 19,
   "id": "910a8375",
   "metadata": {},
   "outputs": [
    {
     "data": {
      "text/plain": [
       "{'a': 2, 'b': 5, 'c': 3, 'd': 22, 'j': 1}"
      ]
     },
     "execution_count": 19,
     "metadata": {},
     "output_type": "execute_result"
    }
   ],
   "source": [
    "def sort_keys(d):\n",
    "    dt = {}\n",
    "    for i in sorted(d):\n",
    "        dt[i]=d[i]\n",
    "    return dt\n",
    "\n",
    "sort_keys({'d': 22, 'b': 5, 'j': 1, 'c': 3, 'a': 2})"
   ]
  },
  {
   "cell_type": "code",
   "execution_count": 20,
   "id": "364133ed",
   "metadata": {},
   "outputs": [
    {
     "data": {
      "text/plain": [
       "[1, 2, 3, 5, 22]"
      ]
     },
     "execution_count": 20,
     "metadata": {},
     "output_type": "execute_result"
    }
   ],
   "source": [
    "d = {'d': 22, 'b': 5, 'j': 1, 'c': 3, 'a': 2}\n",
    "sorted(d.values())"
   ]
  },
  {
   "cell_type": "code",
   "execution_count": 21,
   "id": "cbc73c96",
   "metadata": {},
   "outputs": [
    {
     "data": {
      "text/plain": [
       "{'a': 2, 'c': 3, 'b': 5, 'j': 11, 'd': 22}"
      ]
     },
     "execution_count": 21,
     "metadata": {},
     "output_type": "execute_result"
    }
   ],
   "source": [
    "def sort_value(d):\n",
    "    dt={}\n",
    "    t=list(d)\n",
    "    while len(t)>0:\n",
    "        x=t[0]\n",
    "        for j in t:\n",
    "            if d[x]>d[j]:\n",
    "                x=j\n",
    "        dt[x]=d[x]\n",
    "        t.remove(x)\n",
    "    return dt   \n",
    "sort_value({'d': 22, 'b': 5, 'j': 11, 'c': 3, 'a': 2})"
   ]
  }
 ],
 "metadata": {
  "kernelspec": {
   "display_name": "Python 3",
   "language": "python",
   "name": "python3"
  },
  "language_info": {
   "codemirror_mode": {
    "name": "ipython",
    "version": 3
   },
   "file_extension": ".py",
   "mimetype": "text/x-python",
   "name": "python",
   "nbconvert_exporter": "python",
   "pygments_lexer": "ipython3",
   "version": "3.8.8"
  }
 },
 "nbformat": 4,
 "nbformat_minor": 5
}
