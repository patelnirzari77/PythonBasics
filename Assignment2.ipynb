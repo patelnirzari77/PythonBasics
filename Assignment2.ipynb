{
 "cells": [
  {
   "cell_type": "raw",
   "metadata": {},
   "source": [
    "1.What are the two values of the Boolean data type? How do you write them?\n",
    "Ans. The two values are : True and False\n",
    "The first letter must be capital.\n"
   ]
  },
  {
   "cell_type": "raw",
   "metadata": {},
   "source": [
    "2. What are the three different types of Boolean operators?\n",
    "Ans. The three different types of Boolean operators are and, or  and not.\n"
   ]
  },
  {
   "cell_type": "raw",
   "metadata": {},
   "source": [
    "3. Make a list of each Boolean operator's truth tables (i.e. every possible combination of Boolean values for the operator and what it evaluate ).\n",
    "and operator    or operator    not operator \n",
    "x\ty\txy\t\tx\ty\tx+y\t\tx\tx’\n",
    "0\t0\t0\t\t0\t0\t0\t\t0\t1\n",
    " 0\t1\t0\t\t0\t1\t1\t\t1\t0\n",
    "1\t0\t0\t\t1\t0\t1\t\t\t\n",
    "1\t1\t1\t\t1\t1\t1\t\t\t\n",
    "\n"
   ]
  },
  {
   "cell_type": "raw",
   "metadata": {},
   "source": [
    "4. What are the values of the following expressions?\n",
    "(5 > 4) and (3 == 5) -- False\n",
    "not (5 > 4) -- False\n",
    "(5 > 4) or (3 == 5) -- True\n",
    "not ((5 > 4) or (3 == 5)) -- False\n",
    "(True and True) and (True == False) -- False\n",
    "(not False) or (not True) -- True\n"
   ]
  },
  {
   "cell_type": "raw",
   "metadata": {},
   "source": [
    "5. What are the six comparison operators?\n",
    "•\tLess than(<) operator\n",
    "•\tGreater than(>) operator\n",
    "•\tLess than or equal to(<=) operator\n",
    "•\tEqual to or greater than(>=) operator\n",
    "•\tEqual to(==) operator\n",
    "•\tNot equal to(!=) operator"
   ]
  },
  {
   "cell_type": "raw",
   "metadata": {},
   "source": [
    "6. How do you tell the difference between the equal to and assignment operators? Describe a condition and when you would use one.\n",
    "Ans. The equal to operator(==) is used to compare the two operands like 2==3 i.e. is the value 2 equal to 3 whereas the assignment operator(=) is used to assign the value to any variable like a=2 i.e. the variable a has the value  stored in it.\n",
    "Condition:\n",
    "i=2   #assignment operator\n",
    "j=5\n",
    "if i == j:     #equal to operator\n",
    "     print(“ Both are same.”)\n"
   ]
  },
  {
   "cell_type": "raw",
   "metadata": {},
   "source": [
    "7. Identify the three blocks in this code:\n",
    "spam = 0\n",
    "if spam == 10:\n",
    "print('eggs')\n",
    "if spam > 5:\n",
    "print('bacon')\n",
    "else:\n",
    "print('ham')\n",
    "print('spam')\n",
    "print('spam')\n",
    "Ans.   spam = 0\n",
    "           if spam == 10:\n",
    "print('eggs')    #block1\n",
    "         \n",
    "  if spam > 5:\n",
    "print('bacon')    #block2\n",
    "else:\n",
    "print('ham')    #block 3\n",
    "print('spam')\n",
    "print('spam')"
   ]
  },
  {
   "cell_type": "raw",
   "metadata": {},
   "source": [
    "8. Write code that prints Hello if 1 is stored in spam, prints Howdy if 2 is stored in spam, and prints Greetings! if anything else is stored in spam.\n",
    "spam= int(input(\"Enter number:\"))\n",
    "if spam == 1:\n",
    "\tprint(\"Hello\")\n",
    "elif spam == 2 :\n",
    "\tprint(\"Howdy\")\n",
    "else: \n",
    "\tprint(\"Greetings!\")"
   ]
  },
  {
   "cell_type": "raw",
   "metadata": {},
   "source": [
    "9.If your programme is stuck in an endless loop, what keys you’ll press?\n",
    "Ans. Ctrl+C"
   ]
  },
  {
   "cell_type": "raw",
   "metadata": {},
   "source": [
    "10. How can you tell the difference between break and continue?\n",
    "Ans. break is used for immediate terminaton of loop whereas, continue terminates current loop and resumes to the next iteration."
   ]
  },
  {
   "cell_type": "raw",
   "metadata": {},
   "source": [
    "11. In a for loop, what is the difference between range(10), range(0, 10), and range(0, 10, 1)?\n",
    "Ans. The output of all the three will be same. But if the range() function takes one argument then it is stop, if two then, range(start, stop) and if three then, range(start,stop,step)."
   ]
  },
  {
   "cell_type": "code",
   "execution_count": null,
   "metadata": {},
   "outputs": [],
   "source": []
  }
 ],
 "metadata": {
  "kernelspec": {
   "display_name": "Python 3",
   "language": "python",
   "name": "python3"
  },
  "language_info": {
   "codemirror_mode": {
    "name": "ipython",
    "version": 3
   },
   "file_extension": ".py",
   "mimetype": "text/x-python",
   "name": "python",
   "nbconvert_exporter": "python",
   "pygments_lexer": "ipython3",
   "version": "3.8.5"
  }
 },
 "nbformat": 4,
 "nbformat_minor": 4
}
