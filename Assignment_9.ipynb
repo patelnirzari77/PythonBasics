{
 "cells": [
  {
   "cell_type": "raw",
   "id": "2e223bb4",
   "metadata": {},
   "source": [
    "1. To what does a relative path refer?\n",
    "Ans. It refers to the location that is relative to the current directory.\n",
    "\n",
    "2. What does an absolute path start with your operating system?\n",
    "Ans.An absolute path refers to th complete details neede to locate a file or folder, starting from the root elements to other subdirectories. It starts with the root folder.\n",
    "\n",
    "3. What do the functions os.getcwd() and os.chdir() do?\n",
    "Ans.os.getcwd() gives the current working directory and os.chdir() helps to change the directory as per the user.\n",
    "\n",
    "4. What are the . and .. folders?\n",
    "Ans. The . is the current directory and .. signifies the parent directory.\n",
    "\n",
    "5. In C:\\bacon\\eggs\\spam.txt, which part is the dir name, and which part is the base name?\n",
    "Ans.C:\\bacon\\eggs is the directory name while the spam.txt is the base name.\n",
    "\n",
    "6. What are the three “mode” arguments that can be passed to the open() function?\n",
    "Ans.'r' for read mode, 'w' for write mode and 'a' for append mode.\n",
    "\n",
    "7. What happens if an existing file is opened in write mode?\n",
    "Ans.If an existing file is written in write mode then it is erased completely and overwritten.\n",
    "\n",
    "8. How do you tell the difference between read() and readlines()?\n",
    "Ans.The read() method returns the content of whole file as a single string value and the readlines() method returns a list of strings where each string is a line from file.\n",
    "\n",
    "9. What data structure does a shelf value resemble?\n",
    "Ans.It resembles a dictionary value."
   ]
  }
 ],
 "metadata": {
  "kernelspec": {
   "display_name": "Python 3",
   "language": "python",
   "name": "python3"
  },
  "language_info": {
   "codemirror_mode": {
    "name": "ipython",
    "version": 3
   },
   "file_extension": ".py",
   "mimetype": "text/x-python",
   "name": "python",
   "nbconvert_exporter": "python",
   "pygments_lexer": "ipython3",
   "version": "3.8.8"
  }
 },
 "nbformat": 4,
 "nbformat_minor": 5
}
