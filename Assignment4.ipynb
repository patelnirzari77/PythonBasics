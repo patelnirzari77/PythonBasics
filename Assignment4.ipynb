{
 "cells": [
  {
   "cell_type": "raw",
   "metadata": {},
   "source": [
    "1. What exactly is []?\n",
    "Ans. It is a list"
   ]
  },
  {
   "cell_type": "raw",
   "metadata": {},
   "source": [
    "2. In a list of values stored in a variable called spam, how would you assign the value 'hello' as the third value? \n",
    "(Assume [2, 4, 6, 8, 10] are in spam.)"
   ]
  },
  {
   "cell_type": "code",
   "execution_count": 1,
   "metadata": {},
   "outputs": [
    {
     "data": {
      "text/plain": [
       "[2, 4, 'hello', 6, 8, 10]"
      ]
     },
     "execution_count": 1,
     "metadata": {},
     "output_type": "execute_result"
    }
   ],
   "source": [
    "spam = [2, 4, 6, 8, 10]\n",
    "spam.insert(2,'hello')\n",
    "spam"
   ]
  },
  {
   "cell_type": "raw",
   "metadata": {},
   "source": [
    "Let's pretend the spam includes the list ['a', 'b', 'c', 'd'] for the next three queries."
   ]
  },
  {
   "cell_type": "raw",
   "metadata": {},
   "source": [
    "3. What is the value of spam[int(int('3' * 2) / 11)]?\n",
    "Ans. 'd'\n",
    "\n",
    "4. What is the value of spam[-1]?\n",
    "Ans. 'd'\n",
    "\n",
    "5. What is the value of spam[:2]?\n",
    "Ans. ['a','b']"
   ]
  },
  {
   "cell_type": "raw",
   "metadata": {},
   "source": [
    "Let's pretend bacon has the list [3.14, 'cat,' 11, 'cat,' True] for the next three questions."
   ]
  },
  {
   "cell_type": "raw",
   "metadata": {},
   "source": [
    "6. What is the value of bacon.index('cat')?\n",
    "Ans. 1\n",
    "\n",
    "7. How does bacon.append(99) change the look of the list value in bacon?\n",
    "Ans. [3.14, 'cat', 11, 'cat', True,99]\n",
    "\n",
    "8. How does bacon.remove('cat') change the look of the list in bacon?\n",
    "Ans. [3.14, 11, 'cat', True, 99]"
   ]
  },
  {
   "cell_type": "raw",
   "metadata": {},
   "source": [
    " 9. What are the list concatenation and list replication operators?\n",
    "Ans.The list concatenation operator is '+' and the list replication operator is '*'.\n",
    "\n",
    "10. What is difference between the list methods append() and insert()?\n",
    "Ans. append() is used to add elements in the list at the last whereas, insert() method is used to add or insert an element at a specific location.\n",
    "\n",
    "11. What are the two methods for removing items from a list?\n",
    "Ans.The two methods for removing items from a list are pop() and remove().\n",
    "\n",
    "12. Describe how list values and string values are identical.\n",
    "Ans.Lists are similar to string which are ordered collection of characters.\n",
    "\n",
    "13. What's the difference between tuples and lists?\n",
    "Ans.Lists are mutable while tuples are immutable.\n",
    "\n",
    "14. How do you type a tuple value that only contains the integer 42?\n",
    "Ans. t = (42,)\n",
    "\n",
    "15. How do you get a list value's tuple form? How do you get a tuple value's list form?\n",
    "Ans.list value's tuple form:\n",
    "        t = tuple(l) # t is tuple and l is list\n",
    "    tuple value's list form:\n",
    "        l = list(t)  \n",
    "        \n",
    "16. Variables that \"contain\" list values are not necessarily lists themselves. Instead, what do they contain?\n",
    "Ans. Variables will contain references to list values.\n",
    "\n",
    "17. How do you distinguish between copy.copy() and copy.deepcopy()?\n",
    "Ans.copy.copy() creates a new variable that shares the reference to the original object whereas in copy.deepcopy(), a copy of object is copied to another object with no reference to the original."
   ]
  }
 ],
 "metadata": {
  "kernelspec": {
   "display_name": "Python 3",
   "language": "python",
   "name": "python3"
  },
  "language_info": {
   "codemirror_mode": {
    "name": "ipython",
    "version": 3
   },
   "file_extension": ".py",
   "mimetype": "text/x-python",
   "name": "python",
   "nbconvert_exporter": "python",
   "pygments_lexer": "ipython3",
   "version": "3.8.5"
  }
 },
 "nbformat": 4,
 "nbformat_minor": 4
}
