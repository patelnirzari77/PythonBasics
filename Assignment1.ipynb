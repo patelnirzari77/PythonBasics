{
 "cells": [
  {
   "cell_type": "raw",
   "metadata": {},
   "source": [
    "1. In the below elements which of them are values or an expression? eg:- values can be integer or string and expressions will be mathematical operators.\n",
    "* -expression\n",
    "'hello' - value\n",
    "-87.8 - value\n",
    "-   -- expression\n",
    "/   -- expression\n",
    "+\t-- expression\n",
    "6 - value\n"
   ]
  },
  {
   "cell_type": "raw",
   "metadata": {},
   "source": [
    "2. What is the difference between string and variable?\n",
    "Ans.  A variable is a space or memory allocated to store information whereas string is a data type or a type of information stored in a variable.\n"
   ]
  },
  {
   "cell_type": "raw",
   "metadata": {},
   "source": [
    "3. Describe three different data types.\n",
    "•\tint—In this data type, numeric values are stored. Eg. 23,1,-3, etc\n",
    "•\tfloat—It represents floating point numbers or numbers with decimal points.\n",
    "Eg. 12.2, 503.21\n",
    "•\tstring—It is used to store string values i.e. sequence of characters. Single(‘ ’) or double(“ ”)          inverted comas are used .\n",
    "\t      Eg.  ‘Gujarat’, “abc”\n"
   ]
  },
  {
   "cell_type": "raw",
   "metadata": {},
   "source": [
    "4. What is an expression made up of? What do all expressions do?\n",
    "Ans. An expression is a combination of values, variables and operators. It combines values and operators and evaluates down into a single value.\n"
   ]
  },
  {
   "cell_type": "raw",
   "metadata": {},
   "source": [
    "5. This assignment statements, like spam = 10. What is the difference between an expression and a statement?\n",
    "Ans. An expression evaluates to a value whereas a statement represents an action or command.\n"
   ]
  },
  {
   "cell_type": "raw",
   "metadata": {},
   "source": [
    "6. After running the following code, what does the variable bacon contain?\n",
    "bacon = 22\n",
    "bacon + 1\n",
    "Ans. 22\n"
   ]
  },
  {
   "cell_type": "raw",
   "metadata": {},
   "source": [
    "7. What should the values of the following two terms be?\n",
    "'spam' + 'spamspam'\n",
    "'spam' * 3\n",
    "Ans. Both will be same.\n",
    "         spamspamspam\t\n"
   ]
  },
  {
   "cell_type": "raw",
   "metadata": {},
   "source": [
    "8. Why is eggs a valid variable name while 100 is invalid?\n",
    "Ans. Eggs is a valid variable name while 100 is invalid because a variable name must start with a letter or underscore character and cannot start with a number.\n"
   ]
  },
  {
   "cell_type": "raw",
   "metadata": {},
   "source": [
    "9. What three functions can be used to get the integer, floating-point number, or string version of a value?\n",
    "Ans. int(), float() and str()\n"
   ]
  },
  {
   "cell_type": "raw",
   "metadata": {},
   "source": [
    "10. Why does this expression cause an error? How can you fix it?\n",
    "'I have eaten ' + 99 + ' burritos.'\n",
    "Ans. The above expression causes an error because of different datatypes i.e. 99 is an integer while other operands are string datatype.\n",
    "It can be fixed like this:\n",
    " 'I have eaten ' + str(99) + ' burritos.'\n"
   ]
  }
 ],
 "metadata": {
  "kernelspec": {
   "display_name": "Python 3",
   "language": "python",
   "name": "python3"
  },
  "language_info": {
   "codemirror_mode": {
    "name": "ipython",
    "version": 3
   },
   "file_extension": ".py",
   "mimetype": "text/x-python",
   "name": "python",
   "nbconvert_exporter": "python",
   "pygments_lexer": "ipython3",
   "version": "3.8.5"
  }
 },
 "nbformat": 4,
 "nbformat_minor": 4
}
