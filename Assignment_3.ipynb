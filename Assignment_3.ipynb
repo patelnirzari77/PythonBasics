{
 "cells": [
  {
   "cell_type": "raw",
   "id": "20704539",
   "metadata": {},
   "source": [
    "1. Why are functions advantageous to have in your programs?\n",
    "Ans. Functions helps to reuse the same code again i.e. reduces the duplicate code which makes program shorter and easier to read and update.\n",
    "\n",
    "2. When does the code in a function run: when its specified or when its called?\n",
    "Ans.The code in a function runs when its called.\n",
    "\n",
    "3. What statement creates a function?\n",
    "Ans. 'def' statement creates a function.\n",
    "\n",
    "4. What is the difference between a function and a function call?\n",
    "Ans.Function contains the code or instructions to be executed while the function call is calling the function to execute the code written in it.\n",
    "\n",
    "5. How many global scopes are there in a Python program? How many local scopes?\n",
    "Ans.There is one global scope and local scope is created when the function is called.\n",
    "\n",
    "6. What happens to variables in a local scope when the function call returns?\n",
    "Ans.The variables in a local scope are destroyed when the function call returns.\n",
    "\n",
    "7. What is the concept of a return value? Is it possible to have a return value in an expression?\n",
    "Ans. A return value is what the function evaluates to. Yes, it is possible to have a return value in an expression.\n",
    "\n",
    "8. If a function does not have a return statement, what is the return value of a call to that function?\n",
    "Ans.The return value is None type.\n",
    "\n",
    "9. How do you make a function variable refer to the global variable?\n",
    "Ans.A function variable will refer to the global variable through the global statement.\n",
    "\n",
    "10. What is the data type of None?\n",
    "Ans.The data type of None in None type.\n",
    "\n",
    "11. What does the sentence import areallyourpetsnamederic do?\n",
    "Ans.It imports the module named areallyourpetsnamederic.\n",
    "\n",
    "12. If you had a bacon() feature in a spam module, what would you call it after importing spam?\n",
    "Ans.spam.bacon()\n",
    "\n",
    "13. What can you do to save a programme from crashing if it encounters an error?\n",
    "Ans.By placing the code in the try clause.\n",
    "\n",
    "14. What is the purpose of the try clause? What is the purpose of the except clause?\n",
    "Ans.The code that causes an error goes in try clause while the code that executes when an error happens goes in except clause."
   ]
  }
 ],
 "metadata": {
  "kernelspec": {
   "display_name": "Python 3",
   "language": "python",
   "name": "python3"
  },
  "language_info": {
   "codemirror_mode": {
    "name": "ipython",
    "version": 3
   },
   "file_extension": ".py",
   "mimetype": "text/x-python",
   "name": "python",
   "nbconvert_exporter": "python",
   "pygments_lexer": "ipython3",
   "version": "3.8.8"
  }
 },
 "nbformat": 4,
 "nbformat_minor": 5
}
