{
 "cells": [
  {
   "cell_type": "raw",
   "id": "7a24fb27",
   "metadata": {},
   "source": [
    "1. Write a Python Program to Add Two Matrices?"
   ]
  },
  {
   "cell_type": "code",
   "execution_count": 9,
   "id": "4af48be8",
   "metadata": {},
   "outputs": [
    {
     "name": "stdout",
     "output_type": "stream",
     "text": [
      "[2, 4, 6]\n",
      "[8, 10, 12]\n",
      "[14, 16, 18]\n"
     ]
    }
   ],
   "source": [
    "X=[[1,2,3],\n",
    "   [4,5,6],\n",
    "    [7,8,9]]\n",
    "\n",
    "Y = [[1,2,3],\n",
    "   [4,5,6],\n",
    "    [7,8,9]]\n",
    "\n",
    "res = [[0,0,0],\n",
    "   [0,0,0],\n",
    "    [0,0,0]]\n",
    "\n",
    "for i in range(len(X)):\n",
    "    for j in range(len(X[0])):\n",
    "        res[i][j] = X[i][j] + Y[i][j]\n",
    "        \n",
    "for r in res:\n",
    "    print(r)"
   ]
  },
  {
   "cell_type": "raw",
   "id": "cc5cc410",
   "metadata": {},
   "source": [
    "2. Write a Python Program to Multiply Two Matrices?"
   ]
  },
  {
   "cell_type": "code",
   "execution_count": 12,
   "id": "31907121",
   "metadata": {},
   "outputs": [
    {
     "name": "stdout",
     "output_type": "stream",
     "text": [
      "[30, 36, 42, 30]\n",
      "[66, 81, 96, 75]\n",
      "[102, 126, 150, 120]\n"
     ]
    }
   ],
   "source": [
    "X=[[1,2,3],\n",
    "   [4,5,6],\n",
    "    [7,8,9]]\n",
    "\n",
    "Y=[[1,2,3,4],\n",
    "   [4,5,6,7],\n",
    "    [7,8,9,4]]\n",
    "\n",
    "res = [[0,0,0,0],\n",
    "   [0,0,0,0],\n",
    "    [0,0,0,0]]\n",
    "\n",
    "for i in range(len(X)):\n",
    "    for j in range(len(Y[0])):\n",
    "        for k in range(len(Y)):\n",
    "            res[i][j] += X[i][k] * Y[k][j]\n",
    "            \n",
    "for r in res:\n",
    "    print(r)\n"
   ]
  },
  {
   "cell_type": "raw",
   "id": "968ce2d8",
   "metadata": {},
   "source": [
    "3. Write a Python Program to Transpose a Matrix?"
   ]
  },
  {
   "cell_type": "code",
   "execution_count": 15,
   "id": "c1b2c0d4",
   "metadata": {},
   "outputs": [
    {
     "name": "stdout",
     "output_type": "stream",
     "text": [
      "[1, 3, 5]\n",
      "[2, 4, 6]\n"
     ]
    }
   ],
   "source": [
    "X = [[1,2],\n",
    "     [3,4],\n",
    "     [5,6]]\n",
    "\n",
    "res = [[0,0,0],\n",
    "     [0,0,0]]\n",
    "\n",
    "for i in range(len(X)):\n",
    "    for j in range(len(X[0])):\n",
    "        res[j][i] = X[i][j]\n",
    "        \n",
    "for r in res:\n",
    "    print(r)\n"
   ]
  },
  {
   "cell_type": "raw",
   "id": "8f32d48d",
   "metadata": {},
   "source": [
    "4. Write a Python Program to Sort Words in Alphabetic Order?"
   ]
  },
  {
   "cell_type": "code",
   "execution_count": 22,
   "id": "52a361ac",
   "metadata": {},
   "outputs": [
    {
     "name": "stdout",
     "output_type": "stream",
     "text": [
      "Enter a string:i am a student at ineuron\n",
      "a\n",
      "am\n",
      "at\n",
      "i\n",
      "ineuron\n",
      "student\n"
     ]
    }
   ],
   "source": [
    "my_str = input(\"Enter a string:\")\n",
    "words = my_str.split()\n",
    "words.sort()\n",
    "for w in words:\n",
    "    print(w)"
   ]
  },
  {
   "cell_type": "raw",
   "id": "9b8ae685",
   "metadata": {},
   "source": [
    "5. Write a Python Program to Remove Punctuation From a String?"
   ]
  },
  {
   "cell_type": "code",
   "execution_count": 23,
   "id": "41bfd33c",
   "metadata": {},
   "outputs": [
    {
     "name": "stdout",
     "output_type": "stream",
     "text": [
      "Enter a string:hello!!! how,are... you???\n",
      "hello howare you\n"
     ]
    }
   ],
   "source": [
    "punctuations = '''!()-[]{};:'\"\\,<>./?@#$%^&*_~'''\n",
    "\n",
    "my_str = input(\"Enter a string:\")\n",
    "\n",
    "r = \"\"\n",
    "\n",
    "for i in my_str:\n",
    "    if i not in punctuations:\n",
    "       r = r + i\n",
    "print(r)"
   ]
  }
 ],
 "metadata": {
  "kernelspec": {
   "display_name": "Python 3",
   "language": "python",
   "name": "python3"
  },
  "language_info": {
   "codemirror_mode": {
    "name": "ipython",
    "version": 3
   },
   "file_extension": ".py",
   "mimetype": "text/x-python",
   "name": "python",
   "nbconvert_exporter": "python",
   "pygments_lexer": "ipython3",
   "version": "3.8.8"
  }
 },
 "nbformat": 4,
 "nbformat_minor": 5
}
