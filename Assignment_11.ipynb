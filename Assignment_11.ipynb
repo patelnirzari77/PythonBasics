{
 "cells": [
  {
   "cell_type": "raw",
   "id": "f85e96e2",
   "metadata": {},
   "source": [
    "1. Create an assert statement that throws an AssertionError if the variable spam is a negative\n",
    "integer.\n",
    "Ans.spam = -2\n",
    "assert(spam < 0,'The spam variable is less than 0')\n",
    "\n",
    "2. Write an assert statement that triggers an AssertionError if the variables eggs and bacon contain\n",
    "strings that are the same as each other, even if their cases are different (that is, 'hello' and 'hello' are\n",
    "considered the same, and 'goodbye' and 'GOODbye' are also considered the same).\n",
    "Ans.assert eggs.lower() != bacon.lower,'The eggs and bacon variables are the same.' or eggs.upper() != bacon.upper(),'The eggs and bacon variables are the same.'\n",
    "\n",
    "3. Create an assert statement that throws an AssertionError every time.\n",
    "Ans.assert False,'This assertion always triggers.'\n",
    "\n",
    "4. What are the two lines that must be present in your software in order to call logging.debug()?\n",
    "Ans.import logging\n",
    "logging.basicConfig(level = logging.DEBUG,format = '%(asctime)s - %(levelname)s - %(message)s')\n",
    "\n",
    "5. What are the two lines that your program must have in order to have logging.debug() send a\n",
    "logging message to a file named programLog.txt?\n",
    "Ans.import logging\n",
    "logging.basicConfig(filename = 'programLog.txt',level = logging.DEBUG, format = '%(asctime)s - %(levelname)s - %(message)s')\n",
    "\n",
    "6. What are the five levels of logging?\n",
    "Ans.DEBUG, INFO, CRITICAL, ERROR, WARNING\n",
    "\n",
    "7. What line of code would you add to your software to disable all logging messages?\n",
    "Ans.logging.disable(logging.CRITICAL)\n",
    "\n",
    "8.Why is using logging messages better than using print() to display the same message?\n",
    "Ans.You can remove logging messages without removing logging function calls. You can selectively disable lower-level logging messages. You can create logging messages. Logging messages provides a timestamp.\n",
    "\n",
    "9. What are the differences between the Step Over, Step In, and Step Out buttons in the debugger?\n",
    "Ans.The Step Over lets the application execute the next action.If the action involves to call for an operation, it doesnot step into its implementatio while the Step In button steps into its implementation and breaks the execution on the first action of that implementation.\n",
    "The Step Out button lets the application execute until the currently executed operation implementation is returned.\n",
    "\n",
    "10.After you click Continue, when will the debugger stop ?\n",
    "Ans.After clicking Continue, it will stop at the end of the program.\n",
    "\n",
    "11. What is the concept of a breakpoint?\n",
    "Ans.It is setting on a line of code that pauses the debugger to pause when the program execution reaches the line."
   ]
  }
 ],
 "metadata": {
  "kernelspec": {
   "display_name": "Python 3",
   "language": "python",
   "name": "python3"
  },
  "language_info": {
   "codemirror_mode": {
    "name": "ipython",
    "version": 3
   },
   "file_extension": ".py",
   "mimetype": "text/x-python",
   "name": "python",
   "nbconvert_exporter": "python",
   "pygments_lexer": "ipython3",
   "version": "3.8.8"
  }
 },
 "nbformat": 4,
 "nbformat_minor": 5
}
