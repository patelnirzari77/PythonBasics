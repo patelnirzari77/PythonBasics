{
 "cells": [
  {
   "cell_type": "raw",
   "id": "cc7558c0",
   "metadata": {},
   "source": [
    "1. Write a Python program to check if the given number is a Disarium Number?"
   ]
  },
  {
   "cell_type": "code",
   "execution_count": 2,
   "id": "28dcda6b",
   "metadata": {},
   "outputs": [
    {
     "name": "stdout",
     "output_type": "stream",
     "text": [
      "Enter number:89\n",
      "89  is a disarium number\n"
     ]
    }
   ],
   "source": [
    "def CalLength(n):\n",
    "    l = 0\n",
    "    while n != 0:\n",
    "        l = l+1\n",
    "        n = n//10\n",
    "    return l\n",
    "n = int(input(\"Enter number:\"))\n",
    "l = CalLength(n)\n",
    "s=0\n",
    "r=0\n",
    "num = n\n",
    "while n > 0:\n",
    "    r = n % 10\n",
    "    s = s + (r**l)\n",
    "    n = n//10\n",
    "    l = l - 1\n",
    "    \n",
    "if num == s:\n",
    "    print(num,\" is a disarium number\")\n",
    "else:\n",
    "    print(num,\" is not a disarium number\")\n",
    "    \n",
    "    \n"
   ]
  },
  {
   "cell_type": "raw",
   "id": "0d779cdd",
   "metadata": {},
   "source": [
    "2. Write a Python program to print all disarium numbers between 1 to 100?"
   ]
  },
  {
   "cell_type": "code",
   "execution_count": 3,
   "id": "2e2a9a61",
   "metadata": {},
   "outputs": [
    {
     "name": "stdout",
     "output_type": "stream",
     "text": [
      "Disarium numbers between 1 and 100 are:\n",
      "1\n",
      "2\n",
      "3\n",
      "4\n",
      "5\n",
      "6\n",
      "7\n",
      "8\n",
      "9\n",
      "89\n"
     ]
    }
   ],
   "source": [
    "def CalLength(n):\n",
    "    l = 0\n",
    "    while n != 0:\n",
    "        l = l+1\n",
    "        n = n//10\n",
    "    return l\n",
    "def dis_num(n):\n",
    "    l = CalLength(n)\n",
    "    s=0\n",
    "    r=0\n",
    "   \n",
    "    while n > 0:\n",
    "        r = n % 10\n",
    "        s = s + (r**l)\n",
    "        n = n//10\n",
    "        l = l - 1\n",
    "    return s\n",
    "res = 0\n",
    "print(\"Disarium numbers between 1 and 100 are:\")\n",
    "for i in range(1,101):\n",
    "    res = dis_num(i)\n",
    "    if res == i:\n",
    "        print(i)"
   ]
  },
  {
   "cell_type": "raw",
   "id": "f285a7df",
   "metadata": {},
   "source": [
    "3. Write a Python program to check if the given number is Happy Number?"
   ]
  },
  {
   "cell_type": "code",
   "execution_count": 2,
   "id": "37f7a637",
   "metadata": {},
   "outputs": [
    {
     "name": "stdout",
     "output_type": "stream",
     "text": [
      "Enter number:7\n",
      "7  is a happy number \n"
     ]
    }
   ],
   "source": [
    "def isHappy(n):\n",
    "    r = s = 0\n",
    "    while n > 0:\n",
    "        r = n % 10\n",
    "        s = s + (r*r)\n",
    "        n = n//10\n",
    "    return s\n",
    "n = int(input(\"Enter number:\"))\n",
    "res = n\n",
    "\n",
    "while res != 1 and res != 4 :\n",
    "    res = isHappy(res)\n",
    "    \n",
    "if res == 1:\n",
    "    print(n , \" is a happy number \")\n",
    "elif res == 4:\n",
    "     print(n , \" is not a happy number \")"
   ]
  },
  {
   "cell_type": "raw",
   "id": "5fc9c22b",
   "metadata": {},
   "source": [
    "4. Write a Python program to print all happy numbers between 1 and 100?"
   ]
  },
  {
   "cell_type": "code",
   "execution_count": 3,
   "id": "09636227",
   "metadata": {},
   "outputs": [
    {
     "name": "stdout",
     "output_type": "stream",
     "text": [
      "Happy numbers between 1 and 100 are:\n",
      "1\n",
      "7\n",
      "10\n",
      "13\n",
      "19\n",
      "23\n",
      "28\n",
      "31\n",
      "32\n",
      "44\n",
      "49\n",
      "68\n",
      "70\n",
      "79\n",
      "82\n",
      "86\n",
      "91\n",
      "94\n",
      "97\n",
      "100\n"
     ]
    }
   ],
   "source": [
    "def isHappy(n):\n",
    "    r = s = 0\n",
    "    while n > 0:\n",
    "        r = n % 10\n",
    "        s = s + (r*r)\n",
    "        n = n//10\n",
    "    return s\n",
    "print(\"Happy numbers between 1 and 100 are:\")\n",
    "for i in range(1,101):\n",
    "    res = i\n",
    "    while res != 1 and res != 4 :\n",
    "        res = isHappy(res)\n",
    "    if res == 1:\n",
    "        print(i)"
   ]
  },
  {
   "cell_type": "raw",
   "id": "f5a55a5d",
   "metadata": {},
   "source": [
    "5. Write a Python program to determine whether the given number is a Harshad Number?"
   ]
  },
  {
   "cell_type": "code",
   "execution_count": 7,
   "id": "8969235f",
   "metadata": {},
   "outputs": [
    {
     "name": "stdout",
     "output_type": "stream",
     "text": [
      "Enter number:156\n",
      "156  is a harshad number\n"
     ]
    }
   ],
   "source": [
    "n = int(input(\"Enter number:\"))    \n",
    "r =  s = 0   \n",
    "     \n",
    "num = n\n",
    "     \n",
    "while n > 0:    \n",
    "    r = n%10    \n",
    "    s = s + r   \n",
    "    n = n//10    \n",
    "     \n",
    "  \n",
    "if num%s == 0:    \n",
    "    print(num , \" is a harshad number\")  \n",
    "else:    \n",
    "    print(num , \" is not a harshad number\")    "
   ]
  },
  {
   "cell_type": "raw",
   "id": "ea9a27e0",
   "metadata": {},
   "source": [
    "6. Write a Python program to print all pronic numbers between 1 and 100?"
   ]
  },
  {
   "cell_type": "code",
   "execution_count": 9,
   "id": "ad8c908a",
   "metadata": {},
   "outputs": [
    {
     "name": "stdout",
     "output_type": "stream",
     "text": [
      "Pronic numbers between 1 and 100: \n",
      "2\n",
      "6\n",
      "12\n",
      "20\n",
      "30\n",
      "42\n",
      "56\n",
      "72\n",
      "90\n"
     ]
    }
   ],
   "source": [
    "def isPronicNumber(num):    \n",
    "    flag = False;    \n",
    "        \n",
    "    for j in range(1, num+1): \n",
    "        if j *(j+1)==num:\n",
    "            flag = True;    \n",
    "            break;    \n",
    "    return flag;    \n",
    "     \n",
    "print(\"Pronic numbers between 1 and 100: \");    \n",
    "for i in range(1, 101):    \n",
    "    if isPronicNumber(i):    \n",
    "        print(i)    "
   ]
  }
 ],
 "metadata": {
  "kernelspec": {
   "display_name": "Python 3",
   "language": "python",
   "name": "python3"
  },
  "language_info": {
   "codemirror_mode": {
    "name": "ipython",
    "version": 3
   },
   "file_extension": ".py",
   "mimetype": "text/x-python",
   "name": "python",
   "nbconvert_exporter": "python",
   "pygments_lexer": "ipython3",
   "version": "3.8.8"
  }
 },
 "nbformat": 4,
 "nbformat_minor": 5
}
