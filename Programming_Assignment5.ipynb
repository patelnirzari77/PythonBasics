{
 "cells": [
  {
   "cell_type": "raw",
   "id": "1d59047c",
   "metadata": {},
   "source": [
    "1. Write a Python Program to Find LCM?\n"
   ]
  },
  {
   "cell_type": "code",
   "execution_count": 1,
   "id": "587484d0",
   "metadata": {},
   "outputs": [
    {
     "name": "stdout",
     "output_type": "stream",
     "text": [
      "Enter num 1:6\n",
      "Enter num 2:8\n",
      "The LCM is : 24\n"
     ]
    }
   ],
   "source": [
    "n1 = int(input(\"Enter num 1:\"))\n",
    "n2 = int(input(\"Enter num 2:\"))\n",
    "if n1 > n2:\n",
    "    greater = n1\n",
    "else:\n",
    "    greater = n2\n",
    "while(True):\n",
    "    if ((greater % n1 == 0) and (greater % n2 == 0)) :\n",
    "        lcm = greater\n",
    "        break\n",
    "    greater += 1    \n",
    "print(\"The LCM is :\", lcm)"
   ]
  },
  {
   "cell_type": "raw",
   "id": "3256e958",
   "metadata": {},
   "source": [
    "2. Write a Python Program to Find HCF?"
   ]
  },
  {
   "cell_type": "code",
   "execution_count": 4,
   "id": "ecb562da",
   "metadata": {},
   "outputs": [
    {
     "name": "stdout",
     "output_type": "stream",
     "text": [
      "Enter num 1:6\n",
      "Enter num 2:8\n",
      "The hcf is : 2\n"
     ]
    }
   ],
   "source": [
    "n1 = int(input(\"Enter num 1:\"))\n",
    "n2 = int(input(\"Enter num 2:\"))\n",
    "\n",
    "if n1 > n2:\n",
    "    smaller = n2\n",
    "else:\n",
    "    smaller = n1\n",
    "for i in range(1,smaller+1):\n",
    "    if ((n1 % i == 0) and (n2 % i == 0)) :\n",
    "        hcf = i\n",
    "print(\"The hcf is :\",hcf)"
   ]
  },
  {
   "cell_type": "raw",
   "id": "7c5c88da",
   "metadata": {},
   "source": [
    "3. Write a Python Program to Convert Decimal to Binary, Octal and Hexadecimal?"
   ]
  },
  {
   "cell_type": "code",
   "execution_count": 9,
   "id": "c48bfc2c",
   "metadata": {},
   "outputs": [
    {
     "name": "stdout",
     "output_type": "stream",
     "text": [
      "Enter a decimal number:234\n",
      "0b11101010  is binary \n",
      "0o352  is octal \n",
      "0xea  is hexadecimal\n"
     ]
    }
   ],
   "source": [
    "n = int(input(\"Enter a decimal number:\"))\n",
    "\n",
    "print(bin(n),\" is binary \")\n",
    "print(oct(n),\" is octal \")\n",
    "print(hex(n), \" is hexadecimal\")"
   ]
  },
  {
   "cell_type": "raw",
   "id": "1bdb962c",
   "metadata": {},
   "source": [
    "4. Write a Python Program To Find ASCII value of a character?"
   ]
  },
  {
   "cell_type": "code",
   "execution_count": 11,
   "id": "4e3e8a05",
   "metadata": {},
   "outputs": [
    {
     "name": "stdout",
     "output_type": "stream",
     "text": [
      "Enter a character:A\n",
      "The ASCII value of  A is 65\n"
     ]
    }
   ],
   "source": [
    "c = input(\"Enter a character:\")\n",
    "print(\"The ASCII value of \",c,\"is\",ord(c))"
   ]
  },
  {
   "cell_type": "raw",
   "id": "be4fec6e",
   "metadata": {},
   "source": [
    "5. Write a Python Program to Make a Simple Calculator with 4 basic mathematical operations?"
   ]
  },
  {
   "cell_type": "code",
   "execution_count": 12,
   "id": "a53a6216",
   "metadata": {},
   "outputs": [
    {
     "name": "stdout",
     "output_type": "stream",
     "text": [
      "Enter num 1:4\n",
      "Enter num 2:5\n",
      "Enter operation to be done (+,-,*,/):*\n",
      "Multiplication is  20\n"
     ]
    }
   ],
   "source": [
    "n1 = int(input(\"Enter num 1:\"))\n",
    "n2 = int(input(\"Enter num 2:\"))\n",
    "\n",
    "c = input(\"Enter operation to be done (+,-,*,/):\")\n",
    "\n",
    "if c == '+':\n",
    "    print(\"Addition is \",n1+n2)\n",
    "elif c == '-':\n",
    "    print(\"Subtraction is \",n1-n2)\n",
    "elif c == '*':\n",
    "    print(\"Multiplication is \",n1*n2)\n",
    "elif c == '/':\n",
    "    print(\"Division is \",n1/n2)\n",
    "else:\n",
    "    print(\"Invalid input\")"
   ]
  }
 ],
 "metadata": {
  "kernelspec": {
   "display_name": "Python 3",
   "language": "python",
   "name": "python3"
  },
  "language_info": {
   "codemirror_mode": {
    "name": "ipython",
    "version": 3
   },
   "file_extension": ".py",
   "mimetype": "text/x-python",
   "name": "python",
   "nbconvert_exporter": "python",
   "pygments_lexer": "ipython3",
   "version": "3.8.8"
  }
 },
 "nbformat": 4,
 "nbformat_minor": 5
}
